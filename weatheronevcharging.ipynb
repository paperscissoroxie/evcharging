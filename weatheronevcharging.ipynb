{
 "cells": [
  {
   "cell_type": "code",
   "execution_count": 1,
   "metadata": {},
   "outputs": [],
   "source": [
    "# https://www.kaggle.com/code/anshtanwar/ev-charging-import-and-eda\n",
    "# https://www.kaggle.com/code/anshtanwar/ev-charging-duration\n",
    "\n",
    "# datasets: \n",
    "\n",
    "# ev charging data\n",
    "# 1 hourly ev charging loads and idle capacity data\n",
    "# 2 hourly ev loads per user\n",
    "# 3a hourly ev loads aggregated - private\n",
    "# 3b hourly ev loads aggregated - shared\n",
    "\n",
    "# weather data\n",
    "# 7 norway trondheim exact location weather"
   ]
  },
  {
   "cell_type": "markdown",
   "metadata": {},
   "source": [
    "# hourly ev charging loads and idle capacity data"
   ]
  },
  {
   "cell_type": "code",
   "execution_count": 2,
   "metadata": {},
   "outputs": [],
   "source": [
    "import pandas as pd\n",
    "\n",
    "# load dataset 1\n",
    "df1_path = 'data/1 ev charging reports.csv'\n",
    "df1 = pd.read_csv(df1_path, decimal=',', delimiter=';')"
   ]
  },
  {
   "cell_type": "code",
   "execution_count": 3,
   "metadata": {},
   "outputs": [
    {
     "data": {
      "text/html": [
       "<div>\n",
       "<style scoped>\n",
       "    .dataframe tbody tr th:only-of-type {\n",
       "        vertical-align: middle;\n",
       "    }\n",
       "\n",
       "    .dataframe tbody tr th {\n",
       "        vertical-align: top;\n",
       "    }\n",
       "\n",
       "    .dataframe thead th {\n",
       "        text-align: right;\n",
       "    }\n",
       "</style>\n",
       "<table border=\"1\" class=\"dataframe\">\n",
       "  <thead>\n",
       "    <tr style=\"text-align: right;\">\n",
       "      <th></th>\n",
       "      <th>session_ID</th>\n",
       "      <th>Garage_ID</th>\n",
       "      <th>User_ID</th>\n",
       "      <th>User_type</th>\n",
       "      <th>Shared_ID</th>\n",
       "      <th>Start_plugin</th>\n",
       "      <th>Start_plugin_hour</th>\n",
       "      <th>End_plugout</th>\n",
       "      <th>End_plugout_hour</th>\n",
       "      <th>El_kWh</th>\n",
       "      <th>Duration_hours</th>\n",
       "      <th>month_plugin</th>\n",
       "      <th>weekdays_plugin</th>\n",
       "      <th>Plugin_category</th>\n",
       "      <th>Duration_category</th>\n",
       "    </tr>\n",
       "  </thead>\n",
       "  <tbody>\n",
       "    <tr>\n",
       "      <th>0</th>\n",
       "      <td>1</td>\n",
       "      <td>AdO3</td>\n",
       "      <td>AdO3-4</td>\n",
       "      <td>Private</td>\n",
       "      <td>NaN</td>\n",
       "      <td>21.12.2018 10:20</td>\n",
       "      <td>10</td>\n",
       "      <td>21.12.2018 10:23</td>\n",
       "      <td>10.0</td>\n",
       "      <td>0.30</td>\n",
       "      <td>0.050000</td>\n",
       "      <td>Dec</td>\n",
       "      <td>Friday</td>\n",
       "      <td>late morning (9-12)</td>\n",
       "      <td>Less than 3 hours</td>\n",
       "    </tr>\n",
       "    <tr>\n",
       "      <th>1</th>\n",
       "      <td>2</td>\n",
       "      <td>AdO3</td>\n",
       "      <td>AdO3-4</td>\n",
       "      <td>Private</td>\n",
       "      <td>NaN</td>\n",
       "      <td>21.12.2018 10:24</td>\n",
       "      <td>10</td>\n",
       "      <td>21.12.2018 10:32</td>\n",
       "      <td>10.0</td>\n",
       "      <td>0.87</td>\n",
       "      <td>0.136667</td>\n",
       "      <td>Dec</td>\n",
       "      <td>Friday</td>\n",
       "      <td>late morning (9-12)</td>\n",
       "      <td>Less than 3 hours</td>\n",
       "    </tr>\n",
       "    <tr>\n",
       "      <th>2</th>\n",
       "      <td>3</td>\n",
       "      <td>AdO3</td>\n",
       "      <td>AdO3-4</td>\n",
       "      <td>Private</td>\n",
       "      <td>NaN</td>\n",
       "      <td>21.12.2018 11:33</td>\n",
       "      <td>11</td>\n",
       "      <td>21.12.2018 19:46</td>\n",
       "      <td>19.0</td>\n",
       "      <td>29.87</td>\n",
       "      <td>8.216389</td>\n",
       "      <td>Dec</td>\n",
       "      <td>Friday</td>\n",
       "      <td>late morning (9-12)</td>\n",
       "      <td>Between 6 and 9  hours</td>\n",
       "    </tr>\n",
       "    <tr>\n",
       "      <th>3</th>\n",
       "      <td>4</td>\n",
       "      <td>AdO3</td>\n",
       "      <td>AdO3-2</td>\n",
       "      <td>Private</td>\n",
       "      <td>NaN</td>\n",
       "      <td>22.12.2018 16:15</td>\n",
       "      <td>16</td>\n",
       "      <td>23.12.2018 16:40</td>\n",
       "      <td>16.0</td>\n",
       "      <td>15.56</td>\n",
       "      <td>24.419722</td>\n",
       "      <td>Dec</td>\n",
       "      <td>Saturday</td>\n",
       "      <td>late afternoon (15-18)</td>\n",
       "      <td>More than 18 hours</td>\n",
       "    </tr>\n",
       "    <tr>\n",
       "      <th>4</th>\n",
       "      <td>5</td>\n",
       "      <td>AdO3</td>\n",
       "      <td>AdO3-2</td>\n",
       "      <td>Private</td>\n",
       "      <td>NaN</td>\n",
       "      <td>24.12.2018 22:03</td>\n",
       "      <td>22</td>\n",
       "      <td>24.12.2018 23:02</td>\n",
       "      <td>23.0</td>\n",
       "      <td>3.62</td>\n",
       "      <td>0.970556</td>\n",
       "      <td>Dec</td>\n",
       "      <td>Monday</td>\n",
       "      <td>late evening (21-midnight)</td>\n",
       "      <td>Less than 3 hours</td>\n",
       "    </tr>\n",
       "  </tbody>\n",
       "</table>\n",
       "</div>"
      ],
      "text/plain": [
       "   session_ID Garage_ID User_ID User_type Shared_ID      Start_plugin  \\\n",
       "0           1      AdO3  AdO3-4   Private       NaN  21.12.2018 10:20   \n",
       "1           2      AdO3  AdO3-4   Private       NaN  21.12.2018 10:24   \n",
       "2           3      AdO3  AdO3-4   Private       NaN  21.12.2018 11:33   \n",
       "3           4      AdO3  AdO3-2   Private       NaN  22.12.2018 16:15   \n",
       "4           5      AdO3  AdO3-2   Private       NaN  24.12.2018 22:03   \n",
       "\n",
       "   Start_plugin_hour       End_plugout  End_plugout_hour  El_kWh  \\\n",
       "0                 10  21.12.2018 10:23              10.0    0.30   \n",
       "1                 10  21.12.2018 10:32              10.0    0.87   \n",
       "2                 11  21.12.2018 19:46              19.0   29.87   \n",
       "3                 16  23.12.2018 16:40              16.0   15.56   \n",
       "4                 22  24.12.2018 23:02              23.0    3.62   \n",
       "\n",
       "   Duration_hours month_plugin weekdays_plugin             Plugin_category  \\\n",
       "0        0.050000          Dec          Friday         late morning (9-12)   \n",
       "1        0.136667          Dec          Friday         late morning (9-12)   \n",
       "2        8.216389          Dec          Friday         late morning (9-12)   \n",
       "3       24.419722          Dec        Saturday      late afternoon (15-18)   \n",
       "4        0.970556          Dec          Monday  late evening (21-midnight)   \n",
       "\n",
       "        Duration_category  \n",
       "0       Less than 3 hours  \n",
       "1       Less than 3 hours  \n",
       "2  Between 6 and 9  hours  \n",
       "3      More than 18 hours  \n",
       "4       Less than 3 hours  "
      ]
     },
     "execution_count": 3,
     "metadata": {},
     "output_type": "execute_result"
    }
   ],
   "source": [
    "df1.head()"
   ]
  },
  {
   "cell_type": "code",
   "execution_count": 4,
   "metadata": {},
   "outputs": [
    {
     "data": {
      "text/html": [
       "<div>\n",
       "<style scoped>\n",
       "    .dataframe tbody tr th:only-of-type {\n",
       "        vertical-align: middle;\n",
       "    }\n",
       "\n",
       "    .dataframe tbody tr th {\n",
       "        vertical-align: top;\n",
       "    }\n",
       "\n",
       "    .dataframe thead th {\n",
       "        text-align: right;\n",
       "    }\n",
       "</style>\n",
       "<table border=\"1\" class=\"dataframe\">\n",
       "  <thead>\n",
       "    <tr style=\"text-align: right;\">\n",
       "      <th></th>\n",
       "      <th>session_ID</th>\n",
       "      <th>Start_plugin_hour</th>\n",
       "      <th>End_plugout_hour</th>\n",
       "      <th>El_kWh</th>\n",
       "      <th>Duration_hours</th>\n",
       "    </tr>\n",
       "  </thead>\n",
       "  <tbody>\n",
       "    <tr>\n",
       "      <th>count</th>\n",
       "      <td>6878.000000</td>\n",
       "      <td>6878.000000</td>\n",
       "      <td>6844.000000</td>\n",
       "      <td>6878.000000</td>\n",
       "      <td>6844.000000</td>\n",
       "    </tr>\n",
       "    <tr>\n",
       "      <th>mean</th>\n",
       "      <td>3439.500000</td>\n",
       "      <td>16.325240</td>\n",
       "      <td>12.546902</td>\n",
       "      <td>12.720744</td>\n",
       "      <td>11.504440</td>\n",
       "    </tr>\n",
       "    <tr>\n",
       "      <th>std</th>\n",
       "      <td>1985.651908</td>\n",
       "      <td>4.363108</td>\n",
       "      <td>5.256756</td>\n",
       "      <td>11.787938</td>\n",
       "      <td>14.148168</td>\n",
       "    </tr>\n",
       "    <tr>\n",
       "      <th>min</th>\n",
       "      <td>1.000000</td>\n",
       "      <td>0.000000</td>\n",
       "      <td>0.000000</td>\n",
       "      <td>0.010000</td>\n",
       "      <td>0.003333</td>\n",
       "    </tr>\n",
       "    <tr>\n",
       "      <th>25%</th>\n",
       "      <td>1720.250000</td>\n",
       "      <td>15.000000</td>\n",
       "      <td>7.000000</td>\n",
       "      <td>5.200000</td>\n",
       "      <td>2.789028</td>\n",
       "    </tr>\n",
       "    <tr>\n",
       "      <th>50%</th>\n",
       "      <td>3439.500000</td>\n",
       "      <td>17.000000</td>\n",
       "      <td>12.000000</td>\n",
       "      <td>9.050000</td>\n",
       "      <td>10.026250</td>\n",
       "    </tr>\n",
       "    <tr>\n",
       "      <th>75%</th>\n",
       "      <td>5158.750000</td>\n",
       "      <td>19.000000</td>\n",
       "      <td>17.000000</td>\n",
       "      <td>16.090000</td>\n",
       "      <td>15.221181</td>\n",
       "    </tr>\n",
       "    <tr>\n",
       "      <th>max</th>\n",
       "      <td>6878.000000</td>\n",
       "      <td>23.000000</td>\n",
       "      <td>23.000000</td>\n",
       "      <td>80.860000</td>\n",
       "      <td>255.029444</td>\n",
       "    </tr>\n",
       "  </tbody>\n",
       "</table>\n",
       "</div>"
      ],
      "text/plain": [
       "        session_ID  Start_plugin_hour  End_plugout_hour       El_kWh  \\\n",
       "count  6878.000000        6878.000000       6844.000000  6878.000000   \n",
       "mean   3439.500000          16.325240         12.546902    12.720744   \n",
       "std    1985.651908           4.363108          5.256756    11.787938   \n",
       "min       1.000000           0.000000          0.000000     0.010000   \n",
       "25%    1720.250000          15.000000          7.000000     5.200000   \n",
       "50%    3439.500000          17.000000         12.000000     9.050000   \n",
       "75%    5158.750000          19.000000         17.000000    16.090000   \n",
       "max    6878.000000          23.000000         23.000000    80.860000   \n",
       "\n",
       "       Duration_hours  \n",
       "count     6844.000000  \n",
       "mean        11.504440  \n",
       "std         14.148168  \n",
       "min          0.003333  \n",
       "25%          2.789028  \n",
       "50%         10.026250  \n",
       "75%         15.221181  \n",
       "max        255.029444  "
      ]
     },
     "execution_count": 4,
     "metadata": {},
     "output_type": "execute_result"
    }
   ],
   "source": [
    "df1.describe()"
   ]
  },
  {
   "cell_type": "markdown",
   "metadata": {},
   "source": [
    "### preprocess data"
   ]
  },
  {
   "cell_type": "code",
   "execution_count": 5,
   "metadata": {},
   "outputs": [],
   "source": [
    "# convert to datetime\n",
    "df1['Start_plugin'] = pd.to_datetime(df1['Start_plugin'], format='%d.%m.%Y %H:%M')\n",
    "df1['End_plugout'] = pd.to_datetime(df1['End_plugout'], format='%d.%m.%Y %H:%M')"
   ]
  },
  {
   "cell_type": "markdown",
   "metadata": {},
   "source": [
    "#### inspect missing data"
   ]
  },
  {
   "cell_type": "code",
   "execution_count": 6,
   "metadata": {},
   "outputs": [
    {
     "name": "stdout",
     "output_type": "stream",
     "text": [
      "Shared_ID            5466\n",
      "End_plugout            34\n",
      "End_plugout_hour       34\n",
      "Duration_hours         34\n",
      "Duration_category      34\n",
      "dtype: int64\n",
      "The number of features with missing data: 5\n"
     ]
    },
    {
     "data": {
      "image/png": "[encoded data removed]",
      "text/plain": [
       "<Figure size 640x480 with 1 Axes>"
      ]
     },
     "metadata": {},
     "output_type": "display_data"
    }
   ],
   "source": [
    "# visualize missing data\n",
    "import seaborn as sns\n",
    "\n",
    "sns.set_style('ticks')\n",
    "missing = df1.isnull().sum()\n",
    "missing = missing[missing > 0]\n",
    "missing.sort_values(ascending=False, inplace=True)\n",
    "missing.plot.bar()\n",
    "\n",
    "print(missing)\n",
    "print('The number of features with missing data: %i' % missing.count())"
   ]
  },
  {
   "cell_type": "code",
   "execution_count": 7,
   "metadata": {},
   "outputs": [
    {
     "data": {
      "text/plain": [
       "array([nan, 'Shared-7', 'Shared-12', 'Shared-5', 'Shared-6', 'Shared-11',\n",
       "       'Shared-4', 'Shared-2', 'Shared-3', 'Shared-8', 'Shared-1',\n",
       "       'Shared-10', 'Shared-9'], dtype=object)"
      ]
     },
     "execution_count": 7,
     "metadata": {},
     "output_type": "execute_result"
    }
   ],
   "source": [
    "df1['Shared_ID'].unique()"
   ]
  },
  {
   "cell_type": "code",
   "execution_count": 8,
   "metadata": {},
   "outputs": [
    {
     "name": "stdout",
     "output_type": "stream",
     "text": [
      "<class 'pandas.core.frame.DataFrame'>\n",
      "RangeIndex: 6878 entries, 0 to 6877\n",
      "Data columns (total 15 columns):\n",
      " #   Column             Non-Null Count  Dtype         \n",
      "---  ------             --------------  -----         \n",
      " 0   session_ID         6878 non-null   int64         \n",
      " 1   Garage_ID          6878 non-null   object        \n",
      " 2   User_ID            6878 non-null   object        \n",
      " 3   User_type          6878 non-null   object        \n",
      " 4   Shared_ID          1412 non-null   object        \n",
      " 5   Start_plugin       6878 non-null   datetime64[ns]\n",
      " 6   Start_plugin_hour  6878 non-null   int64         \n",
      " 7   End_plugout        6844 non-null   datetime64[ns]\n",
      " 8   End_plugout_hour   6844 non-null   float64       \n",
      " 9   El_kWh             6878 non-null   float64       \n",
      " 10  Duration_hours     6844 non-null   float64       \n",
      " 11  month_plugin       6878 non-null   object        \n",
      " 12  weekdays_plugin    6878 non-null   object        \n",
      " 13  Plugin_category    6878 non-null   object        \n",
      " 14  Duration_category  6844 non-null   object        \n",
      "dtypes: datetime64[ns](2), float64(3), int64(2), object(8)\n",
      "memory usage: 806.1+ KB\n"
     ]
    }
   ],
   "source": [
    "df1.info()"
   ]
  },
  {
   "cell_type": "code",
   "execution_count": 9,
   "metadata": {},
   "outputs": [
    {
     "name": "stderr",
     "output_type": "stream",
     "text": [
      "/var/folders/18/8clc2py90l78rfr41n28mwfh0000gq/T/ipykernel_60948/48301390.py:2: FutureWarning: A value is trying to be set on a copy of a DataFrame or Series through chained assignment using an inplace method.\n",
      "The behavior will change in pandas 3.0. This inplace method will never work because the intermediate object on which we are setting values always behaves as a copy.\n",
      "\n",
      "For example, when doing 'df[col].method(value, inplace=True)', try using 'df.method({col: value}, inplace=True)' or df[col] = df[col].method(value) instead, to perform the operation inplace on the original object.\n",
      "\n",
      "\n",
      "  df1['Shared_ID'].fillna('Not_Shared', inplace=True)\n"
     ]
    }
   ],
   "source": [
    "# handling missing Shared_IDs\n",
    "df1['Shared_ID'].fillna('Not_Shared', inplace=True)"
   ]
  },
  {
   "cell_type": "code",
   "execution_count": 10,
   "metadata": {},
   "outputs": [
    {
     "data": {
      "image/png": "[encoded data removed]",
      "text/plain": [
       "<Figure size 500x400 with 2 Axes>"
      ]
     },
     "metadata": {},
     "output_type": "display_data"
    }
   ],
   "source": [
    "# correlation of missingness\n",
    "import seaborn as sns\n",
    "import matplotlib.pyplot as plt\n",
    "import numpy as np\n",
    "\n",
    "missing_corr = df1.isna().corr()\n",
    "\n",
    "mask = np.triu(np.ones_like(missing_corr, dtype=bool))\n",
    "cmap = sns.diverging_palette(20, 220, n=200, as_cmap=True)\n",
    "\n",
    "plt.figure(figsize=(5, 4))\n",
    "\n",
    "sns.heatmap(missing_corr, \n",
    "            mask=mask, \n",
    "            cmap=cmap, \n",
    "            vmax=.8, \n",
    "            center=0,\n",
    "            square=True, \n",
    "            linewidths=.5, \n",
    "            cbar_kws={\"shrink\": .5}, \n",
    "            annot=True,\n",
    "            fmt=\".2f\")\n",
    "\n",
    "plt.title('Correlation of Missingness Between Features', size=15)\n",
    "plt.xticks(rotation=45, ha='right')\n",
    "plt.yticks(rotation=0)\n",
    "plt.show()"
   ]
  },
  {
   "cell_type": "code",
   "execution_count": 11,
   "metadata": {},
   "outputs": [
    {
     "name": "stdout",
     "output_type": "stream",
     "text": [
      "End_plugout_hour     34\n",
      "Duration_hours       34\n",
      "Duration_category    34\n",
      "dtype: int64\n"
     ]
    }
   ],
   "source": [
    "# overlapping missing values\n",
    "missing_end_plugout = df1[df1['End_plugout'].isna()]\n",
    "print(missing_end_plugout[['End_plugout_hour', 'Duration_hours', 'Duration_category']].isna().sum())"
   ]
  },
  {
   "cell_type": "code",
   "execution_count": 12,
   "metadata": {},
   "outputs": [
    {
     "data": {
      "image/png": "[encoded data removed]",
      "text/plain": [
       "<Figure size 640x480 with 1 Axes>"
      ]
     },
     "metadata": {},
     "output_type": "display_data"
    }
   ],
   "source": [
    "# temporal patterns\n",
    "df1['missing_End_plugout'] = df1['End_plugout'].isna()\n",
    "df1.groupby(df1['Start_plugin'].dt.date)['missing_End_plugout'].sum().plot(kind='line')\n",
    "plt.title('Missing End_plugout Values Over Time')\n",
    "plt.xlabel('Date')\n",
    "plt.ylabel('Count of Missing Values')\n",
    "plt.show()\n"
   ]
  },
  {
   "cell_type": "code",
   "execution_count": 13,
   "metadata": {},
   "outputs": [
    {
     "data": {
      "text/plain": [
       "User_ID\n",
       "AdA6-1      156\n",
       "AsO4-2      138\n",
       "AsO8-3       36\n",
       "Bl2-1       278\n",
       "Bl2-2       319\n",
       "Bl2-3       169\n",
       "Bl2-5       639\n",
       "Bl2-8       149\n",
       "MS22-1       59\n",
       "NR1-1        89\n",
       "Ris-1        42\n",
       "Ris-2        46\n",
       "SR2-3       131\n",
       "Share-12    136\n",
       "Share-15     29\n",
       "Share-17     15\n",
       "Share-32      2\n",
       "UT1-1       135\n",
       "UT15-2      116\n",
       "UT7-1        29\n",
       "UT7-2       116\n",
       "dtype: int64"
      ]
     },
     "execution_count": 13,
     "metadata": {},
     "output_type": "execute_result"
    }
   ],
   "source": [
    "# user behavior\n",
    "users_with_missing = df1[df1['End_plugout'].isna()]['User_ID'].unique()\n",
    "df1[df1['User_ID'].isin(users_with_missing)].groupby('User_ID').size()"
   ]
  },
  {
   "cell_type": "code",
   "execution_count": 14,
   "metadata": {},
   "outputs": [
    {
     "data": {
      "text/plain": [
       "TtestResult(statistic=0.6824710428144728, pvalue=0.4949641371704909, df=6876.0)"
      ]
     },
     "execution_count": 14,
     "metadata": {},
     "output_type": "execute_result"
    }
   ],
   "source": [
    "from scipy.stats import ttest_ind\n",
    "\n",
    "non_missing = df1[~df1['End_plugout'].isna()]['El_kWh']\n",
    "missing = df1[df1['End_plugout'].isna()]['El_kWh']\n",
    "ttest_ind(non_missing, missing, nan_policy='omit')"
   ]
  },
  {
   "cell_type": "code",
   "execution_count": 15,
   "metadata": {},
   "outputs": [],
   "source": [
    "# imputing missing values \n",
    "# calculate overall average session duration\n",
    "average_duration = df1['Duration_hours'].dropna().mean()\n",
    "\n",
    "# impute missing End_plugout times\n",
    "missing_indices = df1[df1['End_plugout'].isna()].index\n",
    "df1.loc[missing_indices, 'End_plugout'] = df1.loc[missing_indices, 'Start_plugin'] + pd.to_timedelta(average_duration, unit='h')"
   ]
  },
  {
   "cell_type": "code",
   "execution_count": 16,
   "metadata": {},
   "outputs": [
    {
     "name": "stdout",
     "output_type": "stream",
     "text": [
      "End_plugout_hour     34\n",
      "Duration_hours       34\n",
      "Duration_category    34\n",
      "dtype: int64\n",
      "The number of features with missing data: 3\n"
     ]
    },
    {
     "data": {
      "image/png": "[encoded data removed]",
      "text/plain": [
       "<Figure size 640x480 with 1 Axes>"
      ]
     },
     "metadata": {},
     "output_type": "display_data"
    }
   ],
   "source": [
    "# visualize missing data\n",
    "import seaborn as sns\n",
    "\n",
    "sns.set_style('ticks')\n",
    "missing = df1.isnull().sum()\n",
    "missing = missing[missing > 0]\n",
    "missing.sort_values(ascending=False, inplace=True)\n",
    "missing.plot.bar()\n",
    "\n",
    "print(missing)\n",
    "print('The number of features with missing data: %i' % missing.count())"
   ]
  },
  {
   "cell_type": "code",
   "execution_count": 17,
   "metadata": {},
   "outputs": [],
   "source": [
    "# handle other missing values by recalculating columns\n",
    "missing_end_plugout_hour = df1['End_plugout_hour'].isna() & df1['End_plugout'].notna()\n",
    "df1.loc[missing_end_plugout_hour, 'End_plugout_hour'] = df1.loc[missing_end_plugout_hour, 'End_plugout'].dt.hour\n",
    "\n",
    "missing_duration_hours = df1['Duration_hours'].isna() & df1['End_plugout'].notna() & df1['Start_plugin'].notna()\n",
    "df1.loc[missing_duration_hours, 'Duration_hours'] = (df1.loc[missing_duration_hours, 'End_plugout'] - df1.loc[missing_duration_hours, 'Start_plugin']).dt.total_seconds() / 3600"
   ]
  },
  {
   "cell_type": "code",
   "execution_count": 18,
   "metadata": {},
   "outputs": [
    {
     "name": "stdout",
     "output_type": "stream",
     "text": [
      "Duration_category    34\n",
      "dtype: int64\n",
      "The number of features with missing data: 1\n"
     ]
    },
    {
     "data": {
      "image/png": "[encoded data removed]",
      "text/plain": [
       "<Figure size 640x480 with 1 Axes>"
      ]
     },
     "metadata": {},
     "output_type": "display_data"
    }
   ],
   "source": [
    "# visualize missing data\n",
    "import seaborn as sns\n",
    "\n",
    "sns.set_style('ticks')\n",
    "missing = df1.isnull().sum()\n",
    "missing = missing[missing > 0]\n",
    "missing.sort_values(ascending=False, inplace=True)\n",
    "missing.plot.bar()\n",
    "\n",
    "print(missing)\n",
    "print('The number of features with missing data: %i' % missing.count())"
   ]
  },
  {
   "cell_type": "code",
   "execution_count": 19,
   "metadata": {},
   "outputs": [
    {
     "data": {
      "text/plain": [
       "array(['Less than 3 hours', 'Between 6 and 9  hours',\n",
       "       'More than 18 hours', 'Between 3 and 6 hours',\n",
       "       'Between 15 and 18 hours', 'Between 12 and 15 hours',\n",
       "       'Between 9 and 12 hours', nan], dtype=object)"
      ]
     },
     "execution_count": 19,
     "metadata": {},
     "output_type": "execute_result"
    }
   ],
   "source": [
    "df1['Duration_category'].unique()"
   ]
  },
  {
   "cell_type": "code",
   "execution_count": 21,
   "metadata": {},
   "outputs": [],
   "source": [
    "import numpy as np\n",
    "\n",
    "# conditional logic for categories\n",
    "conditions = [\n",
    "    (df1['Duration_hours'] <= 3),\n",
    "    (df1['Duration_hours'] > 3) & (df1['Duration_hours'] <= 6),\n",
    "    (df1['Duration_hours'] > 6) & (df1['Duration_hours'] <= 9),\n",
    "    (df1['Duration_hours'] > 9) & (df1['Duration_hours'] <= 12),\n",
    "    (df1['Duration_hours'] > 12) & (df1['Duration_hours'] <= 15),\n",
    "    (df1['Duration_hours'] > 15) & (df1['Duration_hours'] <= 18),\n",
    "    (df1['Duration_hours'] > 18)\n",
    "]\n",
    "\n",
    "# categories for the conditions\n",
    "categories = [\n",
    "    'Less than 3 hours',\n",
    "    'Between 3 and 6 hours',\n",
    "    'Between 6 and 9 hours',\n",
    "    'Between 9 and 12 hours',\n",
    "    'Between 12 and 15 hours',\n",
    "    'Between 15 and 18 hours',\n",
    "    'More than 18 hours'\n",
    "]\n",
    "\n",
    "# find rows where Duration_category is missing\n",
    "missing_duration_category = df1['Duration_category'].isna()\n",
    "\n",
    "# temporary column for all rows\n",
    "df1['new_duration_category'] = np.select(conditions, categories, default=np.nan)\n",
    "\n",
    "# update 'Duration_category' where it is missing\n",
    "df1.loc[missing_duration_category, 'Duration_category'] = df1.loc[missing_duration_category, 'new_duration_category']\n",
    "\n",
    "# drop the 'new_duration_category' column\n",
    "df1.drop('new_duration_category', axis=1, inplace=True)"
   ]
  },
  {
   "cell_type": "code",
   "execution_count": 24,
   "metadata": {},
   "outputs": [
    {
     "data": {
      "text/plain": [
       "session_ID             0\n",
       "Garage_ID              0\n",
       "User_ID                0\n",
       "User_type              0\n",
       "Shared_ID              0\n",
       "Start_plugin           0\n",
       "Start_plugin_hour      0\n",
       "End_plugout            0\n",
       "End_plugout_hour       0\n",
       "El_kWh                 0\n",
       "Duration_hours         0\n",
       "month_plugin           0\n",
       "weekdays_plugin        0\n",
       "Plugin_category        0\n",
       "Duration_category      0\n",
       "missing_End_plugout    0\n",
       "dtype: int64"
      ]
     },
     "execution_count": 24,
     "metadata": {},
     "output_type": "execute_result"
    }
   ],
   "source": [
    "# final missing value check\n",
    "df1.isnull().sum()"
   ]
  },
  {
   "cell_type": "code",
   "execution_count": 22,
   "metadata": {},
   "outputs": [
    {
     "data": {
      "text/html": [
       "<div>\n",
       "<style scoped>\n",
       "    .dataframe tbody tr th:only-of-type {\n",
       "        vertical-align: middle;\n",
       "    }\n",
       "\n",
       "    .dataframe tbody tr th {\n",
       "        vertical-align: top;\n",
       "    }\n",
       "\n",
       "    .dataframe thead th {\n",
       "        text-align: right;\n",
       "    }\n",
       "</style>\n",
       "<table border=\"1\" class=\"dataframe\">\n",
       "  <thead>\n",
       "    <tr style=\"text-align: right;\">\n",
       "      <th></th>\n",
       "      <th>session_ID</th>\n",
       "      <th>Garage_ID</th>\n",
       "      <th>User_ID</th>\n",
       "      <th>User_type</th>\n",
       "      <th>Shared_ID</th>\n",
       "      <th>Start_plugin</th>\n",
       "      <th>Start_plugin_hour</th>\n",
       "      <th>End_plugout</th>\n",
       "      <th>End_plugout_hour</th>\n",
       "      <th>El_kWh</th>\n",
       "      <th>Duration_hours</th>\n",
       "      <th>month_plugin</th>\n",
       "      <th>weekdays_plugin</th>\n",
       "      <th>Plugin_category</th>\n",
       "      <th>Duration_category</th>\n",
       "      <th>missing_End_plugout</th>\n",
       "    </tr>\n",
       "  </thead>\n",
       "  <tbody>\n",
       "    <tr>\n",
       "      <th>0</th>\n",
       "      <td>1</td>\n",
       "      <td>AdO3</td>\n",
       "      <td>AdO3-4</td>\n",
       "      <td>Private</td>\n",
       "      <td>Not_Shared</td>\n",
       "      <td>2018-12-21 10:20:00</td>\n",
       "      <td>10</td>\n",
       "      <td>2018-12-21 10:23:00</td>\n",
       "      <td>10.0</td>\n",
       "      <td>0.30</td>\n",
       "      <td>0.050000</td>\n",
       "      <td>Dec</td>\n",
       "      <td>Friday</td>\n",
       "      <td>late morning (9-12)</td>\n",
       "      <td>Less than 3 hours</td>\n",
       "      <td>False</td>\n",
       "    </tr>\n",
       "    <tr>\n",
       "      <th>1</th>\n",
       "      <td>2</td>\n",
       "      <td>AdO3</td>\n",
       "      <td>AdO3-4</td>\n",
       "      <td>Private</td>\n",
       "      <td>Not_Shared</td>\n",
       "      <td>2018-12-21 10:24:00</td>\n",
       "      <td>10</td>\n",
       "      <td>2018-12-21 10:32:00</td>\n",
       "      <td>10.0</td>\n",
       "      <td>0.87</td>\n",
       "      <td>0.136667</td>\n",
       "      <td>Dec</td>\n",
       "      <td>Friday</td>\n",
       "      <td>late morning (9-12)</td>\n",
       "      <td>Less than 3 hours</td>\n",
       "      <td>False</td>\n",
       "    </tr>\n",
       "    <tr>\n",
       "      <th>2</th>\n",
       "      <td>3</td>\n",
       "      <td>AdO3</td>\n",
       "      <td>AdO3-4</td>\n",
       "      <td>Private</td>\n",
       "      <td>Not_Shared</td>\n",
       "      <td>2018-12-21 11:33:00</td>\n",
       "      <td>11</td>\n",
       "      <td>2018-12-21 19:46:00</td>\n",
       "      <td>19.0</td>\n",
       "      <td>29.87</td>\n",
       "      <td>8.216389</td>\n",
       "      <td>Dec</td>\n",
       "      <td>Friday</td>\n",
       "      <td>late morning (9-12)</td>\n",
       "      <td>Between 6 and 9  hours</td>\n",
       "      <td>False</td>\n",
       "    </tr>\n",
       "    <tr>\n",
       "      <th>3</th>\n",
       "      <td>4</td>\n",
       "      <td>AdO3</td>\n",
       "      <td>AdO3-2</td>\n",
       "      <td>Private</td>\n",
       "      <td>Not_Shared</td>\n",
       "      <td>2018-12-22 16:15:00</td>\n",
       "      <td>16</td>\n",
       "      <td>2018-12-23 16:40:00</td>\n",
       "      <td>16.0</td>\n",
       "      <td>15.56</td>\n",
       "      <td>24.419722</td>\n",
       "      <td>Dec</td>\n",
       "      <td>Saturday</td>\n",
       "      <td>late afternoon (15-18)</td>\n",
       "      <td>More than 18 hours</td>\n",
       "      <td>False</td>\n",
       "    </tr>\n",
       "    <tr>\n",
       "      <th>4</th>\n",
       "      <td>5</td>\n",
       "      <td>AdO3</td>\n",
       "      <td>AdO3-2</td>\n",
       "      <td>Private</td>\n",
       "      <td>Not_Shared</td>\n",
       "      <td>2018-12-24 22:03:00</td>\n",
       "      <td>22</td>\n",
       "      <td>2018-12-24 23:02:00</td>\n",
       "      <td>23.0</td>\n",
       "      <td>3.62</td>\n",
       "      <td>0.970556</td>\n",
       "      <td>Dec</td>\n",
       "      <td>Monday</td>\n",
       "      <td>late evening (21-midnight)</td>\n",
       "      <td>Less than 3 hours</td>\n",
       "      <td>False</td>\n",
       "    </tr>\n",
       "  </tbody>\n",
       "</table>\n",
       "</div>"
      ],
      "text/plain": [
       "   session_ID Garage_ID User_ID User_type   Shared_ID        Start_plugin  \\\n",
       "0           1      AdO3  AdO3-4   Private  Not_Shared 2018-12-21 10:20:00   \n",
       "1           2      AdO3  AdO3-4   Private  Not_Shared 2018-12-21 10:24:00   \n",
       "2           3      AdO3  AdO3-4   Private  Not_Shared 2018-12-21 11:33:00   \n",
       "3           4      AdO3  AdO3-2   Private  Not_Shared 2018-12-22 16:15:00   \n",
       "4           5      AdO3  AdO3-2   Private  Not_Shared 2018-12-24 22:03:00   \n",
       "\n",
       "   Start_plugin_hour         End_plugout  End_plugout_hour  El_kWh  \\\n",
       "0                 10 2018-12-21 10:23:00              10.0    0.30   \n",
       "1                 10 2018-12-21 10:32:00              10.0    0.87   \n",
       "2                 11 2018-12-21 19:46:00              19.0   29.87   \n",
       "3                 16 2018-12-23 16:40:00              16.0   15.56   \n",
       "4                 22 2018-12-24 23:02:00              23.0    3.62   \n",
       "\n",
       "   Duration_hours month_plugin weekdays_plugin             Plugin_category  \\\n",
       "0        0.050000          Dec          Friday         late morning (9-12)   \n",
       "1        0.136667          Dec          Friday         late morning (9-12)   \n",
       "2        8.216389          Dec          Friday         late morning (9-12)   \n",
       "3       24.419722          Dec        Saturday      late afternoon (15-18)   \n",
       "4        0.970556          Dec          Monday  late evening (21-midnight)   \n",
       "\n",
       "        Duration_category  missing_End_plugout  \n",
       "0       Less than 3 hours                False  \n",
       "1       Less than 3 hours                False  \n",
       "2  Between 6 and 9  hours                False  \n",
       "3      More than 18 hours                False  \n",
       "4       Less than 3 hours                False  "
      ]
     },
     "execution_count": 22,
     "metadata": {},
     "output_type": "execute_result"
    }
   ],
   "source": [
    "df1.head()"
   ]
  },
  {
   "cell_type": "markdown",
   "metadata": {},
   "source": [
    "#### check for duplicates"
   ]
  },
  {
   "cell_type": "code",
   "execution_count": 25,
   "metadata": {},
   "outputs": [
    {
     "name": "stdout",
     "output_type": "stream",
     "text": [
      "Number of duplicate rows: 0\n"
     ]
    }
   ],
   "source": [
    "duplicates = df1.duplicated()\n",
    "num_duplicates = duplicates.sum()\n",
    "print(f\"Number of duplicate rows: {num_duplicates}\")"
   ]
  },
  {
   "cell_type": "code",
   "execution_count": 26,
   "metadata": {},
   "outputs": [],
   "source": [
    "# inspect duplicate rows\n",
    "if num_duplicates > 0:\n",
    "    print(df1[duplicates])"
   ]
  },
  {
   "cell_type": "code",
   "execution_count": 27,
   "metadata": {},
   "outputs": [
    {
     "data": {
      "text/html": [
       "<div>\n",
       "<style scoped>\n",
       "    .dataframe tbody tr th:only-of-type {\n",
       "        vertical-align: middle;\n",
       "    }\n",
       "\n",
       "    .dataframe tbody tr th {\n",
       "        vertical-align: top;\n",
       "    }\n",
       "\n",
       "    .dataframe thead th {\n",
       "        text-align: right;\n",
       "    }\n",
       "</style>\n",
       "<table border=\"1\" class=\"dataframe\">\n",
       "  <thead>\n",
       "    <tr style=\"text-align: right;\">\n",
       "      <th></th>\n",
       "      <th>session_ID</th>\n",
       "      <th>Start_plugin</th>\n",
       "      <th>Start_plugin_hour</th>\n",
       "      <th>End_plugout</th>\n",
       "      <th>End_plugout_hour</th>\n",
       "      <th>El_kWh</th>\n",
       "      <th>Duration_hours</th>\n",
       "    </tr>\n",
       "  </thead>\n",
       "  <tbody>\n",
       "    <tr>\n",
       "      <th>count</th>\n",
       "      <td>6878.000000</td>\n",
       "      <td>6878</td>\n",
       "      <td>6878.000000</td>\n",
       "      <td>6878</td>\n",
       "      <td>6878.000000</td>\n",
       "      <td>6878.000000</td>\n",
       "      <td>6878.000000</td>\n",
       "    </tr>\n",
       "    <tr>\n",
       "      <th>mean</th>\n",
       "      <td>3439.500000</td>\n",
       "      <td>2019-10-01 11:38:00.218086912</td>\n",
       "      <td>16.325240</td>\n",
       "      <td>2019-10-01 23:08:12.614637056</td>\n",
       "      <td>12.524571</td>\n",
       "      <td>12.720744</td>\n",
       "      <td>11.504440</td>\n",
       "    </tr>\n",
       "    <tr>\n",
       "      <th>min</th>\n",
       "      <td>1.000000</td>\n",
       "      <td>2018-12-21 10:20:00</td>\n",
       "      <td>0.000000</td>\n",
       "      <td>2018-12-21 10:23:00</td>\n",
       "      <td>0.000000</td>\n",
       "      <td>0.010000</td>\n",
       "      <td>0.003333</td>\n",
       "    </tr>\n",
       "    <tr>\n",
       "      <th>25%</th>\n",
       "      <td>1720.250000</td>\n",
       "      <td>2019-08-04 21:32:15</td>\n",
       "      <td>15.000000</td>\n",
       "      <td>2019-08-05 11:12:00</td>\n",
       "      <td>7.000000</td>\n",
       "      <td>5.200000</td>\n",
       "      <td>2.799444</td>\n",
       "    </tr>\n",
       "    <tr>\n",
       "      <th>50%</th>\n",
       "      <td>3439.500000</td>\n",
       "      <td>2019-11-02 17:53:00</td>\n",
       "      <td>17.000000</td>\n",
       "      <td>2019-11-03 11:49:00</td>\n",
       "      <td>12.000000</td>\n",
       "      <td>9.050000</td>\n",
       "      <td>10.090694</td>\n",
       "    </tr>\n",
       "    <tr>\n",
       "      <th>75%</th>\n",
       "      <td>5158.750000</td>\n",
       "      <td>2019-12-19 06:15:30</td>\n",
       "      <td>19.000000</td>\n",
       "      <td>2019-12-19 14:58:00</td>\n",
       "      <td>17.000000</td>\n",
       "      <td>16.090000</td>\n",
       "      <td>15.198819</td>\n",
       "    </tr>\n",
       "    <tr>\n",
       "      <th>max</th>\n",
       "      <td>6878.000000</td>\n",
       "      <td>2020-01-31 20:42:00</td>\n",
       "      <td>23.000000</td>\n",
       "      <td>2020-01-31 23:53:00</td>\n",
       "      <td>23.000000</td>\n",
       "      <td>80.860000</td>\n",
       "      <td>255.029444</td>\n",
       "    </tr>\n",
       "    <tr>\n",
       "      <th>std</th>\n",
       "      <td>1985.651908</td>\n",
       "      <td>NaN</td>\n",
       "      <td>4.363108</td>\n",
       "      <td>NaN</td>\n",
       "      <td>5.280187</td>\n",
       "      <td>11.787938</td>\n",
       "      <td>14.113150</td>\n",
       "    </tr>\n",
       "  </tbody>\n",
       "</table>\n",
       "</div>"
      ],
      "text/plain": [
       "        session_ID                   Start_plugin  Start_plugin_hour  \\\n",
       "count  6878.000000                           6878        6878.000000   \n",
       "mean   3439.500000  2019-10-01 11:38:00.218086912          16.325240   \n",
       "min       1.000000            2018-12-21 10:20:00           0.000000   \n",
       "25%    1720.250000            2019-08-04 21:32:15          15.000000   \n",
       "50%    3439.500000            2019-11-02 17:53:00          17.000000   \n",
       "75%    5158.750000            2019-12-19 06:15:30          19.000000   \n",
       "max    6878.000000            2020-01-31 20:42:00          23.000000   \n",
       "std    1985.651908                            NaN           4.363108   \n",
       "\n",
       "                         End_plugout  End_plugout_hour       El_kWh  \\\n",
       "count                           6878       6878.000000  6878.000000   \n",
       "mean   2019-10-01 23:08:12.614637056         12.524571    12.720744   \n",
       "min              2018-12-21 10:23:00          0.000000     0.010000   \n",
       "25%              2019-08-05 11:12:00          7.000000     5.200000   \n",
       "50%              2019-11-03 11:49:00         12.000000     9.050000   \n",
       "75%              2019-12-19 14:58:00         17.000000    16.090000   \n",
       "max              2020-01-31 23:53:00         23.000000    80.860000   \n",
       "std                              NaN          5.280187    11.787938   \n",
       "\n",
       "       Duration_hours  \n",
       "count     6878.000000  \n",
       "mean        11.504440  \n",
       "min          0.003333  \n",
       "25%          2.799444  \n",
       "50%         10.090694  \n",
       "75%         15.198819  \n",
       "max        255.029444  \n",
       "std         14.113150  "
      ]
     },
     "execution_count": 27,
     "metadata": {},
     "output_type": "execute_result"
    }
   ],
   "source": [
    "df1.describe()"
   ]
  },
  {
   "cell_type": "markdown",
   "metadata": {},
   "source": [
    "some statistics of interest:\n",
    "- *El_kWh*: mean: 12.72, std: 11.79, range: 0.01-80.86, 50% (median): 9.05\n",
    "- *Duration_hours*: mean: 11.50, std: 14.11, range: 0.003-255.03, 50% (median): 10.09\n",
    "\n",
    "median to mean comparison to understand skewness:\n",
    "- *El_kWh*: mean: 12.72 vs median: 9.05, interpretation: suggests skewness. the mean is more affected by outliers and extreme values. the difference suggests the mean is being pulled away from the median.\n",
    "- *Duration_hours*: mean: 11.50 vs median: 10.09, interpretation: suggests skewness. the mean is more affected by outliers and extreme values. the difference suggests the mean is being pulled away from the median.\n",
    "\n",
    "interpreting percentiles:\n",
    "- *El_kWh*:\n",
    "- *Duration_hours*:\n",
    "\n",
    "other notes:\n",
    "- *El_kWh* and *Duration_hours* have high standard deviations*** suggesting values are spread out over a wide range, indicating variability in charging session lengths and energy consumption.\n",
    "- the wide range in both *El_kWh* and *Duration_hours* might indicate the presence of outliers. a **box plot** can help visualize outliers. \n",
    "- other percentiles***\n",
    "- depending on the machine learning models to be used, it may be necessary to normalize or standardize data for alorithms that are sensitive to the scale of data."
   ]
  },
  {
   "cell_type": "markdown",
   "metadata": {},
   "source": [
    "### EDA"
   ]
  },
  {
   "cell_type": "markdown",
   "metadata": {},
   "source": [
    "# weather data"
   ]
  },
  {
   "cell_type": "code",
   "execution_count": null,
   "metadata": {},
   "outputs": [],
   "source": [
    "# load dataset 7\n",
    "df7_path = 'data/7 norway trondheim exact location weather.csv'\n",
    "df7 = pd.read_csv(df7_path, delimiter=',')"
   ]
  },
  {
   "cell_type": "code",
   "execution_count": null,
   "metadata": {},
   "outputs": [],
   "source": [
    "df7.head()"
   ]
  }
 ],
 "metadata": {
  "kernelspec": {
   "display_name": "_venv",
   "language": "python",
   "name": "python3"
  },
  "language_info": {
   "codemirror_mode": {
    "name": "ipython",
    "version": 3
   },
   "file_extension": ".py",
   "mimetype": "text/x-python",
   "name": "python",
   "nbconvert_exporter": "python",
   "pygments_lexer": "ipython3",
   "version": "3.10.9"
  }
 },
 "nbformat": 4,
 "nbformat_minor": 2
}
